{
 "cells": [
  {
   "cell_type": "code",
   "execution_count": 1,
   "metadata": {},
   "outputs": [
    {
     "name": "stdout",
     "output_type": "stream",
     "text": [
      "0.3906849682926985\n"
     ]
    }
   ],
   "source": [
    "import random\n",
    "\n",
    "print(random.random())"
   ]
  },
  {
   "cell_type": "code",
   "execution_count": 3,
   "metadata": {},
   "outputs": [
    {
     "name": "stdout",
     "output_type": "stream",
     "text": [
      "730\n",
      "300\n"
     ]
    }
   ],
   "source": [
    "print(random.randint(100,999))\n",
    "\n",
    "print(random.randrange(100,999, 100))"
   ]
  },
  {
   "cell_type": "code",
   "execution_count": 4,
   "metadata": {},
   "outputs": [
    {
     "name": "stdout",
     "output_type": "stream",
     "text": [
      "[0, 1, 2, 3, 4, 5, 6, 7, 8, 9]\n",
      "[4, 2, 1, 5, 7, 6, 3, 0, 8, 9]\n"
     ]
    }
   ],
   "source": [
    "numbers = list(range(10))\n",
    "print(numbers)\n",
    "random.shuffle(numbers)\n",
    "print(numbers)"
   ]
  },
  {
   "cell_type": "code",
   "execution_count": 7,
   "metadata": {},
   "outputs": [
    {
     "name": "stdout",
     "output_type": "stream",
     "text": [
      "['O']\n",
      "['L', 'L', 'L', 'L', 'L', 'H', 'L', 'L', 'L', 'H', 'H', 'L', 'W', 'L', 'H', 'L', 'O', 'L', 'L', 'L']\n",
      "[5, 4, 3, 5, 2, 4, 1, 3, 2, 4, 8, 1, 1, 3, 5, 7, 5, 7, 3, 4]\n"
     ]
    }
   ],
   "source": [
    "print(random.choices(\"HELLOW\"))\n",
    "print(random.choices(\"HELLOW\", k = 20))\n",
    "print(random.choices(list(range(10)), k = 20))"
   ]
  },
  {
   "cell_type": "code",
   "execution_count": 27,
   "metadata": {},
   "outputs": [
    {
     "name": "stdout",
     "output_type": "stream",
     "text": [
      "Случайное число с семенем  0.793340083761663\n",
      "Случайное число с семенем  0.8219540423197268\n"
     ]
    }
   ],
   "source": [
    "random.seed(6)\n",
    "print(\"Случайное число с семенем \",random.random())\n",
    "print(\"Случайное число с семенем \",random.random())"
   ]
  },
  {
   "cell_type": "code",
   "execution_count": 28,
   "metadata": {},
   "outputs": [
    {
     "name": "stdout",
     "output_type": "stream",
     "text": [
      "Первая выборка  [24, 15, 3, 30, 6]\n",
      "Вторая выборка  [30, 24, 18, 9, 3]\n",
      "Третья выборка  [30, 24, 18, 9, 3]\n",
      "Четвертая выборка  [30, 24, 18, 9, 3]\n"
     ]
    }
   ],
   "source": [
    "number_list = [3, 6, 9, 12, 15, 18, 21, 24, 27, 30]\n",
    " \n",
    "print(\"Первая выборка \", random.sample(number_list,k=5))\n",
    " \n",
    "# хранит текущее состояние в объекте state\n",
    "state = random.getstate()\n",
    " \n",
    "print(\"Вторая выборка \", random.sample(number_list,k=5))\n",
    " \n",
    "# Восстанавливает состояние state, используя setstate\n",
    "random.setstate(state)\n",
    " \n",
    "#Теперь будет выведен тот же список второй выборки\n",
    "print(\"Третья выборка \", random.sample(number_list,k=5))\n",
    " \n",
    "# Восстанавливает текущее состояние state\n",
    "random.setstate(state)\n",
    " \n",
    "# Вновь будет выведен тот же список второй выборки\n",
    "print(\"Четвертая выборка \", random.sample(number_list,k=5))"
   ]
  },
  {
   "cell_type": "code",
   "execution_count": 29,
   "metadata": {},
   "outputs": [
    {
     "name": "stdout",
     "output_type": "stream",
     "text": [
      "random.sample()  [8, 9, 2]\n"
     ]
    }
   ],
   "source": [
    "list = [2, 5, 8, 9, 12]\n",
    "print (\"random.sample() \", random.sample(list,3))"
   ]
  },
  {
   "cell_type": "code",
   "execution_count": 30,
   "metadata": {},
   "outputs": [
    {
     "name": "stdout",
     "output_type": "stream",
     "text": [
      "Число с плавающей точкой в пределах заданного промежутка\n",
      "21.44737248933024\n"
     ]
    }
   ],
   "source": [
    "print(\"Число с плавающей точкой в пределах заданного промежутка\")\n",
    "print(random.uniform(10.5, 25.5))"
   ]
  },
  {
   "cell_type": "code",
   "execution_count": 31,
   "metadata": {},
   "outputs": [
    {
     "name": "stdout",
     "output_type": "stream",
     "text": [
      "Число с плавающей точкой через triangular\n",
      "12.241113634606828\n"
     ]
    }
   ],
   "source": [
    "print(\"Число с плавающей точкой через triangular\")\n",
    "print(random.triangular(10.5, 25.5, 5.5))"
   ]
  },
  {
   "cell_type": "code",
   "execution_count": 40,
   "metadata": {},
   "outputs": [
    {
     "name": "stdout",
     "output_type": "stream",
     "text": [
      "0.5000776476874066\n",
      "0.7246030705475768\n",
      "189.11451304960656\n",
      "72.8819804318748\n",
      "0.47241900697857425\n",
      "114.86710488740391\n",
      "5.95012391842512\n",
      "20.19557308563571\n",
      "0.14519314633116875\n"
     ]
    }
   ],
   "source": [
    "print(random.betavariate(1, 2))\n",
    "print(random.expovariate(1.5)) \n",
    "print(random.gammavariate(100, 2))\n",
    "print(random.gauss(100, 50))\n",
    "print(random.lognormvariate(0, 0.25))\n",
    "print(random.normalvariate(100, 50))\n",
    "print(random.vonmisesvariate(0, 4))\n",
    "print(random.paretovariate(3))\n",
    "print(random.weibullvariate(1, 1.5))"
   ]
  }
 ],
 "metadata": {
  "kernelspec": {
   "display_name": "Python 3.8.0 64-bit",
   "language": "python",
   "name": "python3"
  },
  "language_info": {
   "codemirror_mode": {
    "name": "ipython",
    "version": 3
   },
   "file_extension": ".py",
   "mimetype": "text/x-python",
   "name": "python",
   "nbconvert_exporter": "python",
   "pygments_lexer": "ipython3",
   "version": "3.8.0"
  },
  "orig_nbformat": 4,
  "vscode": {
   "interpreter": {
    "hash": "25d775a05cd5ef828ac55111e2d25fe7a8cdee116904ae28746ef0f2500c8ec5"
   }
  }
 },
 "nbformat": 4,
 "nbformat_minor": 2
}
