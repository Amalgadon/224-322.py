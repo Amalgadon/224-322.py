{
 "cells": [
  {
   "cell_type": "markdown",
   "metadata": {},
   "source": [
    "Способ #1"
   ]
  },
  {
   "cell_type": "code",
   "execution_count": 8,
   "metadata": {},
   "outputs": [
    {
     "name": "stdout",
     "output_type": "stream",
     "text": [
      "а б в г д е ё ж з и й к л м н о п р с т у ф х ц ч ш щ ъ ы ь э ю я \n",
      "я ю э ь ы ъ щ ш ч ц х ф у т с р п о н м л к й и з ж ё е д г в б а \n"
     ]
    }
   ],
   "source": [
    "alphabet_RU = \"абвгдеёжзийклмнопрстуфхцчшщъыьэюя\"\n",
    "\n",
    "for i in range(len(alphabet_RU)):\n",
    "    print(alphabet_RU[i], end= \" \")\n",
    "print()\n",
    "\n",
    "for i in range(len(alphabet_RU)-1, -1, -1):\n",
    "    print(alphabet_RU[i], end= \" \")\n",
    "print()\n"
   ]
  },
  {
   "cell_type": "markdown",
   "metadata": {},
   "source": [
    "Способ #2"
   ]
  },
  {
   "cell_type": "code",
   "execution_count": 16,
   "metadata": {},
   "outputs": [
    {
     "name": "stdout",
     "output_type": "stream",
     "text": [
      "а б в г д е ж з и й к л м н о п р с т у ф х ц ч ш щ ъ ы ь э ю я \n",
      "я ю э ь ы ъ щ ш ч ц х ф у т с р п о н м л к й и з ж е д г в б а \n"
     ]
    }
   ],
   "source": [
    "for i in range(ord('а'),ord('я')+1):\n",
    "    print(chr(i), end=\" \")\n",
    "print()\n",
    "\n",
    "for i in range(ord('я'),ord('а')-1, -1):\n",
    "    print(chr(i), end=\" \")\n",
    "print()\n"
   ]
  }
 ],
 "metadata": {
  "kernelspec": {
   "display_name": "Python 3.8.0 64-bit",
   "language": "python",
   "name": "python3"
  },
  "language_info": {
   "codemirror_mode": {
    "name": "ipython",
    "version": 3
   },
   "file_extension": ".py",
   "mimetype": "text/x-python",
   "name": "python",
   "nbconvert_exporter": "python",
   "pygments_lexer": "ipython3",
   "version": "3.8.0"
  },
  "orig_nbformat": 4,
  "vscode": {
   "interpreter": {
    "hash": "25d775a05cd5ef828ac55111e2d25fe7a8cdee116904ae28746ef0f2500c8ec5"
   }
  }
 },
 "nbformat": 4,
 "nbformat_minor": 2
}
